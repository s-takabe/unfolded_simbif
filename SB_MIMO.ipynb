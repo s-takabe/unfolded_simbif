{
  "nbformat": 4,
  "nbformat_minor": 0,
  "metadata": {
    "colab": {
      "provenance": [],
      "authorship_tag": "ABX9TyPJaVeY4sZHBQKQPxak+2MJ"
    },
    "kernelspec": {
      "name": "python3",
      "display_name": "Python 3"
    },
    "language_info": {
      "name": "python"
    },
    "accelerator": "GPU",
    "gpuClass": "standard"
  },
  "cells": [
    {
      "cell_type": "code",
      "execution_count": 16,
      "metadata": {
        "colab": {
          "base_uri": "https://localhost:8080/"
        },
        "id": "8fvTCIAGFGcQ",
        "outputId": "ef1aea7f-deb1-4ce9-b7c1-a60862de3fd9"
      },
      "outputs": [
        {
          "output_type": "stream",
          "name": "stdout",
          "text": [
            "2.0.1+cu118\n"
          ]
        }
      ],
      "source": [
        "import math\n",
        "import random\n",
        "import numpy as np\n",
        "import copy\n",
        "import matplotlib.pyplot as plt\n",
        "import torch\n",
        "import torch.nn as nn\n",
        "import torch.optim as optim\n",
        "import torch.nn.functional as F\n",
        "\n",
        "device = torch.device('cuda') # 'cpu' or 'cuda'\n",
        "print(torch.__version__)"
      ]
    },
    {
      "cell_type": "code",
      "source": [
        "## model parameters\n",
        "n=16 #150\n",
        "m=16 #96\n",
        "snr = 20.0  # SNR per receive antenna [dB]\n",
        "##\n",
        "N=2*n\n",
        "M=2*m\n",
        "##\n",
        "\n",
        "## parameters for evauation of generalization error\n",
        "bs = 10000 # number of samples of x for each H\n",
        "ss = 1000 # number of H\n",
        "##\n",
        "\n",
        "# SB settings\n",
        "eps = 1.0\n",
        "T_max = 50\n",
        "pump_SB = 1.0/(T_max*eps) #0.01 # pump coeff\n",
        "D_SB = 1. # delta\n",
        "xi_SB = 0.1 # xi_0\n"
      ],
      "metadata": {
        "id": "O19m4EHsFfl5"
      },
      "execution_count": 17,
      "outputs": []
    },
    {
      "cell_type": "code",
      "source": [
        "def x_gen(bs,n):\n",
        "    x = torch.rand(bs,n).to(device)\n",
        "    x[x<0.5] = -1\n",
        "    x[x>0.5] = 1\n",
        "    return x\n",
        "def y_gen(bs,m,x0,H,sigma_std):\n",
        "    return x0@H+ torch.normal(0.0, sigma_std*torch.ones(bs, m)).to(device)\n",
        "\n",
        "def trans_2_QUBO(H,y):\n",
        "    J = H@H.t() - torch.diag(torch.diagonal(H@H.t(),0))\n",
        "    h = -2*y@H.t()\n",
        "    return J,h\n",
        "\n",
        "def trans_2_QUBO_LMMSE(H,y,lam):\n",
        "    H_inv = torch.linalg.inv(H.t()@H+lam*torch.eye(M,device=device)) #dim:M*M\n",
        "    J = H@H_inv@H.t() - torch.diag(torch.diagonal(H@H_inv@H.t(),0))\n",
        "    h = -2*y@H_inv@H.t()\n",
        "    lmax_2 = ((J*J).sum()/(N*(N-1)))**0.5 #estimated max. eig.\n",
        "    return J,h, 1.0/(2*N**0.5*lmax_2)\n",
        "\n",
        "def BER(x,y):\n",
        "    z = torch.ones(x.size()).to(device)\n",
        "    z[torch.isclose(torch.sign(x),torch.sign(y))] = 0.\n",
        "    return z.sum()/(z.numel())\n",
        "\n",
        "seed_ =12\n",
        "torch.manual_seed(seed_)\n",
        "# QPSK\n",
        "def H_gen(m,n):\n",
        "    H_re = torch.normal(0.0, std=math.sqrt(0.5) * torch.ones(n,m))\n",
        "    H_im = torch.normal(0.0, std=math.sqrt(0.5) * torch.ones(n,m))  # sensing matrix\n",
        "    H = torch.cat((torch.cat((H_re,H_im),0),torch.cat((-1*H_im,H_re),0)),1)\n",
        "    H = H.to(device)\n",
        "    return H\n",
        "\n",
        "#SNR\n",
        "def est_SNR(snr,m,n):\n",
        "    sigma2 = (2*n/math.pow(10,snr/10.0))/2.0\n",
        "    sigma_std = math.sqrt(sigma2)\n",
        "    return sigma_std\n"
      ],
      "metadata": {
        "id": "2hX8F27WFlNf"
      },
      "execution_count": 18,
      "outputs": []
    },
    {
      "cell_type": "markdown",
      "source": [
        "### ML-SB\n",
        "naive SB detector maximum log likelihood"
      ],
      "metadata": {
        "id": "Y1dCmNYMbuIH"
      }
    },
    {
      "cell_type": "code",
      "source": [
        "# pumping amp.\n",
        "def Pump(t,pump_SB):\n",
        "    #print(t, t/(T_max*eps))\n",
        "    return  (t/(T_max*eps))**1.0 #pump_SB * t\n",
        "\n",
        "def Dqd(q, t,J,h,D_SB,pump_SB,xi_SB,bai,d_flag):\n",
        "    if d_flag == 0:\n",
        "        # ballistic ver. by arXiv:2210.14660\n",
        "        DE_QUBO = q@J + 0.5*h\n",
        "    if d_flag == 1:\n",
        "        # discritized ver. by arXiv:2210.14660\n",
        "        DE_QUBO = q.sign()@J + 0.5*h\n",
        "    return - bai*(-Pump(t,pump_SB) + D_SB) * q - xi_SB * DE_QUBO\n",
        "\n",
        "def dSB(q,p,t,eps,J,h,D_SB,pump_SB,xi_SB,bai,d_flag):\n",
        "    q_ = q + (eps * D_SB) * p #diff(p,K)\n",
        "    q_2 = torch.clamp(q_, min=-1.,max=1.)\n",
        "    p_ = p + eps * Dqd(q_2,t,J,h,D_SB,pump_SB,xi_SB,bai,d_flag) #diff(q,Po)\n",
        "    p_[torch.abs(q_)>1] = 0.0\n",
        "    return q_2,p_\n",
        "\n",
        "def dSB_MIMO(T_max,bs,M,N,J,h,D_SB,pump_SB,xi_SB,eps,bai,d_flag):\n",
        "    q = torch.zeros(bs, N,device=device) # x\n",
        "    p = torch.zeros(bs, N,device=device) # y\n",
        "    q_traj = np.zeros([T_max, N]) # trajectory\n",
        "    p_traj = np.zeros([T_max, N]) # trajectory\n",
        "    p = torch.randn(bs,N,device=device)\n",
        "    #p[:,:] = torch.randn(bs,N)#0.2#1.0/N**2\n",
        "    #ene_init = ene(q, p, np.zeros(1)).item()\n",
        "    #print(p)\n",
        "    t = 0.0\n",
        "\n",
        "    for i in range(T_max):\n",
        "        t = t + eps\n",
        "        q, p = dSB(q,p,t,eps,J,h,D_SB,pump_SB,xi_SB,bai,d_flag)\n",
        "        q_traj[i]=q[0,:].cpu().detach().numpy()\n",
        "        p_traj[i]=p[0,:].cpu().detach().numpy()\n",
        "    return q, p, q_traj, p_traj"
      ],
      "metadata": {
        "id": "MPI6WR1eGGlD"
      },
      "execution_count": 19,
      "outputs": []
    },
    {
      "cell_type": "code",
      "source": [
        "trial=1 # repeating from another init point\n",
        "ss = 1000\n",
        "d_flag = 0 #0=ballisctic(no sign), 1=digital(sign)\n",
        "\n",
        "print(\"SNR, BER\")\n",
        "for snr in np.arange(5.0,35.1,5.0):\n",
        "    sigma_std = est_SNR(snr, m,n)\n",
        "    ber_ =0.0\n",
        "    for i in range(ss):\n",
        "        H = H_gen(m,n)\n",
        "        sol = x_gen(bs,N)\n",
        "        y = y_gen(bs,M,sol,H,sigma_std)\n",
        "        J, h = trans_2_QUBO(H,y)\n",
        "        lmax_2 = ((J*J).sum()/(N*(N-1)))**0.5 #estimated max. eig.\n",
        "        #print(torch.linalg.eigvals(J.t()@J).abs().max()**0.5,torch.linalg.eigvals(J_.t()@J_).abs().max()**0.5,2*N**0.5*lmax_2)\n",
        "        xi_SB_ = D_SB/(2*N**0.5*lmax_2)\n",
        "        xx = torch.zeros(bs,N,device=device)\n",
        "        res = 100*torch.ones(bs,N,device=device)\n",
        "        for k in range(trial):\n",
        "            x_hat ,_,q_traj ,_= dSB_MIMO(T_max,bs,M,N,J,h,D_SB,pump_SB,xi_SB_,eps,1.0,d_flag)\n",
        "            res_ = (y-x_hat.sign()@H).norm(dim=1).view(bs,1).repeat(1,N).view(bs,N)\n",
        "            #print(res_)\n",
        "            xx[res_<res] = x_hat[res_<res]\n",
        "            res[res_<res] = res_[res_<res]\n",
        "        ber_ += BER(sol,xx.sign())\n",
        "    print(snr, ber_.item()/ss)"
      ],
      "metadata": {
        "id": "7lwQgeMfRvew",
        "colab": {
          "base_uri": "https://localhost:8080/"
        },
        "outputId": "d270fa43-1a99-4aed-c50b-1cac7454b15c"
      },
      "execution_count": 20,
      "outputs": [
        {
          "output_type": "stream",
          "name": "stdout",
          "text": [
            "SNR, BER\n",
            "5.0 0.10896620178222656\n",
            "10.0 0.010583418846130371\n",
            "15.0 0.0013047537803649902\n",
            "20.0 0.0006992751955986023\n",
            "25.0 0.000622352659702301\n",
            "30.0 0.0005300716757774353\n",
            "35.0 0.000576202630996704\n"
          ]
        }
      ]
    },
    {
      "cell_type": "markdown",
      "source": [
        "### MMSE-guided SB\n",
        "\n",
        "cf) W.Zhang and Y-L. Zheng, arXiv:2210.14660, 2022"
      ],
      "metadata": {
        "id": "nurdwnLCQnKD"
      }
    },
    {
      "cell_type": "code",
      "source": [
        "# pumping amp.\n",
        "def Pump(t,pump_SB):\n",
        "    #print(t, t/(T_max*eps))\n",
        "    return  (t/(T_max*eps))**1.0 #pump_SB * t\n",
        "\n",
        "def Dqd2(q, t,J,h,D_SB,pump_SB,xi_SB,bai,d_flag,x_lmmse):\n",
        "    if d_flag == 0:\n",
        "        # ballistic ver. by arXiv:2210.14660\n",
        "        DE_QUBO = q@J + 0.5*h+ 0.5*(q - x_lmmse)\n",
        "    if d_flag == 1:\n",
        "        # discritized ver. by arXiv:2210.14660\n",
        "        DE_QUBO = q.sign()@J + 0.5*h+ 0.5*(q - x_lmmse)\n",
        "    #return - xi_SB * DE_QUBO\n",
        "    return - bai*(-Pump(t,pump_SB) + D_SB) * q - xi_SB * DE_QUBO\n",
        "\n",
        "def dSB2(q,p,t,eps,J,h,D_SB,pump_SB,xi_SB,bai,d_flag,x_lmmse):\n",
        "    q_ = q + (eps * D_SB) * p\n",
        "    q_2 = torch.clamp(q_, min=-1.,max=1.)\n",
        "    p_ = p + eps * Dqd2(q_2,t,J,h,D_SB,pump_SB,xi_SB,bai,d_flag,x_lmmse) #diff(q,Po)\n",
        "    p_[torch.abs(q_)>1] = 0.0\n",
        "    return q_2,p_\n",
        "\n",
        "def dSB_MIMOmod(T_max,bs,M,N,J,h,D_SB,pump_SB,xi_SB,eps,bai,d_flag,x_lmmse):\n",
        "    q = torch.zeros(bs, N,device=device) # x\n",
        "    p = torch.zeros(bs, N,device=device) # y\n",
        "    q_traj = np.zeros([T_max, N]) # trajectory\n",
        "    p_traj = np.zeros([T_max, N]) # trajectory\n",
        "    p = torch.randn(bs,N,device=device)\n",
        "    t = 0.0\n",
        "\n",
        "    for i in range(T_max):\n",
        "        t = t + eps\n",
        "        q, p = dSB2(q,p,t,eps,J,h,D_SB,pump_SB,xi_SB,bai,d_flag,x_lmmse)\n",
        "        q_traj[i]=q[0,:].cpu().detach().numpy()\n",
        "        p_traj[i]=p[0,:].cpu().detach().numpy()\n",
        "    return q, p, q_traj, p_traj\n",
        "\n",
        "\n"
      ],
      "metadata": {
        "id": "n0MLmi_1Qz-g"
      },
      "execution_count": 21,
      "outputs": []
    },
    {
      "cell_type": "code",
      "source": [
        "##\n",
        "eps = 1.0\n",
        "D_SB = 1.0\n",
        "T_max = 50\n",
        "trial=1 # repeating from another init point\n",
        "d_flag = 0 #0=ballisctic(no sign), 1=digital(sign)\n",
        "\n",
        "print(\"SNR, BER\")\n",
        "for snr in np.arange(5.0,35.1,5.0):#35.1,5.0):\n",
        "    sigma_std = est_SNR(snr, m,n)\n",
        "    ber_ =0.0\n",
        "\n",
        "    for i in range(ss):\n",
        "        H = H_gen(m,n)\n",
        "        sol = x_gen(bs,N)\n",
        "        y = y_gen(bs,M,sol,H,sigma_std)\n",
        "        J, h = trans_2_QUBO(H,y)\n",
        "        #J_, _ = trans_2_QUBO(H,y)\n",
        "        lmax_2 = ((J*J).sum()/(N*(N-1)))**0.5 #estimated max. eig.\n",
        "        xi_SB_ = D_SB/(2*N**0.5*lmax_2)\n",
        "        x_lmmse =y@(torch.linalg.inv(H.t()@H+sigma_std * torch.eye(2*n,device=device))@H.t())\n",
        "        xx = torch.zeros(bs,N,device=device)\n",
        "        res = 100*torch.ones(bs,N,device=device)\n",
        "        for k in range(trial):\n",
        "            x_hat ,_,q_traj ,_= dSB_MIMOmod(T_max,bs,M,N,J,h,D_SB,pump_SB,xi_SB_,eps,1.0,d_flag,x_lmmse)\n",
        "            res_ = (y-x_hat.sign()@H).norm(dim=1).view(bs,1).repeat(1,N).view(bs,N)\n",
        "            #print(res_)\n",
        "            xx[res_<res] = x_hat[res_<res]\n",
        "            res[res_<res] = res_[res_<res]\n",
        "        ber_ += BER(sol,xx.sign())\n",
        "    print(snr, ber_.item()/ss)"
      ],
      "metadata": {
        "id": "eFp36eL5OzKJ",
        "colab": {
          "base_uri": "https://localhost:8080/"
        },
        "outputId": "30adaf37-5e44-461b-e0a0-ef5d87766bd5"
      },
      "execution_count": 22,
      "outputs": [
        {
          "output_type": "stream",
          "name": "stdout",
          "text": [
            "SNR, BER\n",
            "5.0 0.10828033447265625\n",
            "10.0 0.009600574493408204\n",
            "15.0 0.0006834000945091247\n",
            "20.0 0.0002881717681884766\n",
            "25.0 0.00020238131284713745\n",
            "30.0 0.00015670613944530486\n",
            "35.0 0.00010458118468523025\n"
          ]
        }
      ]
    },
    {
      "cell_type": "markdown",
      "source": [
        "### LM-SB (LMMSE-like matrix based)"
      ],
      "metadata": {
        "id": "WH3bi-DB7Q8Q"
      }
    },
    {
      "cell_type": "code",
      "source": [
        "# pumping amp.\n",
        "def Pump(t,pump_SB):\n",
        "    #print(t, t/(T_max*eps))\n",
        "    return  (t/(T_max*eps))**1.0 #pump_SB * t\n",
        "\n",
        "def Dqd3(q, t,J,h,D_SB,pump_SB,xi_SB,bai,d_flag,x_lmmse):\n",
        "    if d_flag == 0:\n",
        "        # ballistic ver. by arXiv:2210.14660\n",
        "        DE_QUBO = q@J + 0.5*h\n",
        "    if d_flag == 1:\n",
        "        # discritized ver. by arXiv:2210.14660\n",
        "        DE_QUBO = q.sign()@J + 0.5*h\n",
        "    #return - xi_SB * DE_QUBO\n",
        "    return - bai*(-Pump(t,pump_SB) + D_SB) * q - xi_SB * DE_QUBO\n",
        "\n",
        "def dSB2(q,p,t,eps,J,h,D_SB,pump_SB,xi_SB,bai,d_flag,x_lmmse):\n",
        "    q_ = q + (eps * D_SB) * p\n",
        "    q_2 = torch.clamp(q_, min=-1.,max=1.)\n",
        "    p_ = p + eps * Dqd3(q_2,t,J,h,D_SB,pump_SB,xi_SB,bai,d_flag,x_lmmse) #diff(q,Po)\n",
        "    p_[torch.abs(q_)>1] = 0.0\n",
        "    return q_2,p_\n",
        "\n",
        "def dSB_MIMOmod(T_max,bs,M,N,J,h,D_SB,pump_SB,xi_SB,eps,bai,d_flag,x_lmmse):\n",
        "    q = torch.zeros(bs, N,device=device) # x\n",
        "    p = torch.zeros(bs, N,device=device) # y\n",
        "    q_traj = np.zeros([T_max, N]) # trajectory\n",
        "    p_traj = np.zeros([T_max, N]) # trajectory\n",
        "    p = torch.randn(bs,N,device=device)\n",
        "    t = 0.0\n",
        "\n",
        "    for i in range(T_max):\n",
        "        t = t + eps\n",
        "        q, p = dSB2(q,p,t,eps,J,h,D_SB,pump_SB,xi_SB,bai,d_flag,x_lmmse)\n",
        "        q_traj[i]=q[0,:].cpu().detach().numpy()\n",
        "        p_traj[i]=p[0,:].cpu().detach().numpy()\n",
        "    return q, p, q_traj, p_traj\n",
        "\n",
        "\n"
      ],
      "metadata": {
        "id": "Fp0lX8TB7dvJ"
      },
      "execution_count": 23,
      "outputs": []
    },
    {
      "cell_type": "code",
      "source": [
        "def trans_2_QUBO2(H,y):\n",
        "    J = H@H.t() - torch.diag(torch.diagonal(H@H.t(),0))\n",
        "    h = -2*y@H.t()\n",
        "    return J,h\n",
        "\n",
        "##\n",
        "LM_lam = 1.0 #lambda in LMMSE matrix\n",
        "T_max = 50\n",
        "trial=1 # repeating from another init point\n",
        "ss = 1000\n",
        "d_flag = 0 #0=ballisctic(no sign), 1=digital(sign)\n",
        "\n",
        "\n",
        "print(\"SNR, BER\")\n",
        "for snr in np.arange(5.0,35.1,5.0):#35.1,5.0):\n",
        "    sigma_std = est_SNR(snr, m,n)\n",
        "    ber_ =0.0\n",
        "    for i in range(ss):\n",
        "        H = H_gen(m,n)\n",
        "        sol = x_gen(bs,N)\n",
        "        y = y_gen(bs,M,sol,H,sigma_std)\n",
        "        J, h, _ = trans_2_QUBO_LMMSE(H,y,LM_lam)\n",
        "        lmax_2 = ((J*J).sum()/(N*(N-1)))**0.5 #estimated max. eig.\n",
        "        xi_SB_ = D_SB/(2*N**0.5*lmax_2)\n",
        "\n",
        "        xx = torch.zeros(bs,N,device=device)\n",
        "        res = 100*torch.ones(bs,N,device=device)\n",
        "        for k in range(trial):\n",
        "            x_hat ,_,q_traj ,_= dSB_MIMOmod(T_max,bs,M,N,J,h,D_SB,pump_SB,xi_SB_,eps,1.0,d_flag,x_lmmse)\n",
        "            res_ = (y-x_hat.sign()@H).norm(dim=1).view(bs,1).repeat(1,N).view(bs,N)\n",
        "            #print(res_)\n",
        "            xx[res_<res] = x_hat[res_<res]\n",
        "            res[res_<res] = res_[res_<res]\n",
        "        ber_ += BER(sol,xx.sign())\n",
        "    print(snr,ber_.item()/ss)"
      ],
      "metadata": {
        "colab": {
          "base_uri": "https://localhost:8080/"
        },
        "id": "7WmRCApM7Vg6",
        "outputId": "8eb46977-ec53-4eae-c512-702bb04f7e06"
      },
      "execution_count": 25,
      "outputs": [
        {
          "output_type": "stream",
          "name": "stdout",
          "text": [
            "SNR, BER\n",
            "5.0 0.17868038940429687\n",
            "10.0 0.05032455444335938\n",
            "15.0 0.001269072413444519\n",
            "20.0 3.718754043802619e-06\n",
            "25.0 1.4687497168779373e-06\n",
            "30.0 7.437500171363354e-07\n",
            "35.0 7.249999907799065e-07\n"
          ]
        }
      ]
    },
    {
      "cell_type": "code",
      "source": [],
      "metadata": {
        "id": "cKOtfTvMXWqW"
      },
      "execution_count": 24,
      "outputs": []
    }
  ]
}